{
 "cells": [
  {
   "cell_type": "code",
   "execution_count": 1,
   "metadata": {},
   "outputs": [],
   "source": [
    "import pandas as pd\n",
    "import json\n",
    "import random\n"
   ]
  },
  {
   "cell_type": "code",
   "execution_count": 2,
   "metadata": {},
   "outputs": [],
   "source": [
    "test_json = {\n",
    "    \"name\": \"Maruti Swift\",\n",
    "    \"year\": 2020,\n",
    "    \"km_driven\": 5000,\n",
    "    \"fuel\": \"Petrol\",\n",
    "    \"seller_type\": \"Individual\",\n",
    "    \"transmission\": \"Manual\",\n",
    "    \"owner\": \"First Owner\",\n",
    "    \"mileage\": \"20 kmpl\",\n",
    "    \"engine\": \"1200 CC\",\n",
    "    \"max_power\": \"80 bhp\",\n",
    "    \"seats\": 5\n",
    "}"
   ]
  },
  {
   "cell_type": "code",
   "execution_count": 3,
   "metadata": {},
   "outputs": [],
   "source": [
    "json_path = \"test.json\"\n",
    "\n",
    "with open(json_path, 'w') as json_file:\n",
    "    json.dump(test_json, json_file, indent=4)"
   ]
  },
  {
   "cell_type": "code",
   "execution_count": 9,
   "metadata": {},
   "outputs": [],
   "source": [
    "test_csv = {\n",
    "    \"name\": [\"Maruti Swift\", \"Honda Civic\", \"Toyota Camry\", \"Ford Mustang\", \"Hyundai Tucson\",\n",
    "             \"Chevrolet Malibu\", \"Nissan Altima\", \"Volkswagen Golf\", \"Audi A4\", \"BMW 3 Series\"],\n",
    "    \"year\": [random.choice(range(2010, 2023)) for _ in range(10)],\n",
    "    \"km_driven\": [random.choice(range(5000, 50000, 5000)) for _ in range(10)],\n",
    "    \"fuel\": [\"Petrol\", \"Diesel\", \"Petrol\", \"Diesel\", \"Petrol\", \"Diesel\", \"Petrol\", \"Diesel\", \"Petrol\", \"Diesel\"],\n",
    "    \"seller_type\": [\"Individual\", \"Dealer\", \"Individual\", \"Dealer\", \"Individual\", \n",
    "                    \"Dealer\", \"Individual\", \"Dealer\", \"Individual\", \"Dealer\"],\n",
    "    \"transmission\": [\"Manual\", \"Automatic\", \"Manual\", \"Automatic\", \"Manual\", \n",
    "                     \"Automatic\", \"Manual\", \"Automatic\", \"Manual\", \"Automatic\"],\n",
    "    \"owner\": [\"First Owner\", \"Second Owner\", \"Third Owner\", \"First Owner\", \n",
    "              \"Second Owner\", \"Third Owner\", \"First Owner\", \"Second Owner\", \n",
    "              \"Third Owner\", \"First Owner\"],\n",
    "    \"mileage\": [f\"{random.uniform(15, 25):.2f} kmpl\" for _ in range(10)],\n",
    "    \"engine\": [f\"{random.choice(range(1000, 3000))} CC\" for _ in range(10)],\n",
    "    \"max_power\": [f\"{random.choice(range(50, 150))} bhp\" for _ in range(10)],\n",
    "    \"seats\": [random.choice([4, 5, 7]) for _ in range(10)]\n",
    "}\n",
    "\n"
   ]
  },
  {
   "cell_type": "code",
   "execution_count": 12,
   "metadata": {},
   "outputs": [],
   "source": [
    "df = pd.DataFrame(test_csv)\n",
    "\n",
    "csv_path = \"test.csv\"\n",
    "df.to_csv(csv_path, index=False)\n"
   ]
  }
 ],
 "metadata": {
  "kernelspec": {
   "display_name": ".venv",
   "language": "python",
   "name": "python3"
  },
  "language_info": {
   "codemirror_mode": {
    "name": "ipython",
    "version": 3
   },
   "file_extension": ".py",
   "mimetype": "text/x-python",
   "name": "python",
   "nbconvert_exporter": "python",
   "pygments_lexer": "ipython3",
   "version": "3.10.12"
  }
 },
 "nbformat": 4,
 "nbformat_minor": 2
}
